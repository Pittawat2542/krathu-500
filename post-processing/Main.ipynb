{
 "cells": [
  {
   "cell_type": "markdown",
   "source": [
    "# Post Processing"
   ],
   "metadata": {
    "collapsed": false
   }
  },
  {
   "cell_type": "code",
   "execution_count": 41,
   "metadata": {
    "collapsed": true
   },
   "outputs": [],
   "source": [
    "import pandas as pd"
   ]
  },
  {
   "cell_type": "code",
   "execution_count": 42,
   "outputs": [],
   "source": [
    "posts_df = pd.read_csv('../posts.csv')\n",
    "comments_df = pd.read_csv('../comments.csv')"
   ],
   "metadata": {
    "collapsed": false,
    "pycharm": {
     "name": "#%%\n"
    }
   }
  },
  {
   "cell_type": "code",
   "execution_count": 43,
   "outputs": [
    {
     "name": "stdout",
     "output_type": "stream",
     "text": [
      "<class 'pandas.core.frame.DataFrame'>\n",
      "RangeIndex: 574 entries, 0 to 573\n",
      "Data columns (total 9 columns):\n",
      " #   Column          Non-Null Count  Dtype \n",
      "---  ------          --------------  ----- \n",
      " 0   Unnamed: 0      574 non-null    int64 \n",
      " 1   Unnamed: 0.1    574 non-null    int64 \n",
      " 2   Unnamed: 0.1.1  574 non-null    int64 \n",
      " 3   post_id         574 non-null    int64 \n",
      " 4   title           574 non-null    object\n",
      " 5   url             574 non-null    object\n",
      " 6   comment_count   574 non-null    int64 \n",
      " 7   vote_count      574 non-null    int64 \n",
      " 8   published_date  574 non-null    object\n",
      "dtypes: int64(6), object(3)\n",
      "memory usage: 40.5+ KB\n"
     ]
    }
   ],
   "source": [
    "posts_df.info()"
   ],
   "metadata": {
    "collapsed": false,
    "pycharm": {
     "name": "#%%\n"
    }
   }
  },
  {
   "cell_type": "code",
   "execution_count": 44,
   "outputs": [
    {
     "name": "stdout",
     "output_type": "stream",
     "text": [
      "<class 'pandas.core.frame.DataFrame'>\n",
      "RangeIndex: 574 entries, 0 to 573\n",
      "Data columns (total 6 columns):\n",
      " #   Column         Non-Null Count  Dtype                                \n",
      "---  ------         --------------  -----                                \n",
      " 0   id             574 non-null    int64                                \n",
      " 1   title          574 non-null    object                               \n",
      " 2   url            574 non-null    object                               \n",
      " 3   comment_count  574 non-null    int64                                \n",
      " 4   vote_count     574 non-null    int64                                \n",
      " 5   published_at   574 non-null    datetime64[ns, pytz.FixedOffset(402)]\n",
      "dtypes: datetime64[ns, pytz.FixedOffset(402)](1), int64(3), object(2)\n",
      "memory usage: 27.0+ KB\n"
     ]
    }
   ],
   "source": [
    "posts_df = posts_df.drop(['Unnamed: 0', 'Unnamed: 0.1', 'Unnamed: 0.1.1'], axis=1)\n",
    "posts_df = posts_df.rename(columns={\"post_id\": \"id\", \"published_date\": \"published_at\"})\n",
    "posts_df.published_at = pd.to_datetime(posts_df.published_at)\n",
    "posts_df.info()"
   ],
   "metadata": {
    "collapsed": false,
    "pycharm": {
     "name": "#%%\n"
    }
   }
  },
  {
   "cell_type": "code",
   "execution_count": 45,
   "outputs": [
    {
     "data": {
      "text/plain": "                 id  comment_count   vote_count\ncount  5.740000e+02     574.000000   574.000000\nmean   3.824681e+07   31476.538328    39.317073\nstd    3.092140e+06   18494.755831   116.985734\nmin    3.010639e+07     126.000000     0.000000\n25%    3.608681e+07   15591.750000     0.000000\n50%    3.993417e+07   30768.500000     2.000000\n75%    4.049911e+07   47162.750000    17.000000\nmax    4.104156e+07   63866.000000  1400.000000",
      "text/html": "<div>\n<style scoped>\n    .dataframe tbody tr th:only-of-type {\n        vertical-align: middle;\n    }\n\n    .dataframe tbody tr th {\n        vertical-align: top;\n    }\n\n    .dataframe thead th {\n        text-align: right;\n    }\n</style>\n<table border=\"1\" class=\"dataframe\">\n  <thead>\n    <tr style=\"text-align: right;\">\n      <th></th>\n      <th>id</th>\n      <th>comment_count</th>\n      <th>vote_count</th>\n    </tr>\n  </thead>\n  <tbody>\n    <tr>\n      <th>count</th>\n      <td>5.740000e+02</td>\n      <td>574.000000</td>\n      <td>574.000000</td>\n    </tr>\n    <tr>\n      <th>mean</th>\n      <td>3.824681e+07</td>\n      <td>31476.538328</td>\n      <td>39.317073</td>\n    </tr>\n    <tr>\n      <th>std</th>\n      <td>3.092140e+06</td>\n      <td>18494.755831</td>\n      <td>116.985734</td>\n    </tr>\n    <tr>\n      <th>min</th>\n      <td>3.010639e+07</td>\n      <td>126.000000</td>\n      <td>0.000000</td>\n    </tr>\n    <tr>\n      <th>25%</th>\n      <td>3.608681e+07</td>\n      <td>15591.750000</td>\n      <td>0.000000</td>\n    </tr>\n    <tr>\n      <th>50%</th>\n      <td>3.993417e+07</td>\n      <td>30768.500000</td>\n      <td>2.000000</td>\n    </tr>\n    <tr>\n      <th>75%</th>\n      <td>4.049911e+07</td>\n      <td>47162.750000</td>\n      <td>17.000000</td>\n    </tr>\n    <tr>\n      <th>max</th>\n      <td>4.104156e+07</td>\n      <td>63866.000000</td>\n      <td>1400.000000</td>\n    </tr>\n  </tbody>\n</table>\n</div>"
     },
     "execution_count": 45,
     "metadata": {},
     "output_type": "execute_result"
    }
   ],
   "source": [
    "posts_df.describe()"
   ],
   "metadata": {
    "collapsed": false,
    "pycharm": {
     "name": "#%%\n"
    }
   }
  },
  {
   "cell_type": "code",
   "execution_count": 46,
   "outputs": [
    {
     "data": {
      "text/plain": "         id                                              title  \\\n0  38597354  ถึงคนที่มีทุกอย่างอย่างที่ฝันไว้แล้ว..ว่าจริงห...   \n1  41041562      เด็กจบใหม่กับความเครียดจากครอบครัวและการหางาน   \n2  41040956  พนักงานออฟฟิศ สิ่งไหนที่เจ้านายทำแล้ว พนักงานร...   \n3  41031597  มีวิธีรับมืออย่างไรเมื่อเจอกับคนที่ทำงานเก่งมา...   \n4  30467953  คนขายประกันที่บอกว่าไปเที่ยวเมืองนอก ได้เงินเด...   \n\n                                 url  comment_count  vote_count  \\\n0  https://pantip.com/topic/38597354            126           3   \n1  https://pantip.com/topic/41041562            211           0   \n2  https://pantip.com/topic/41040956            275           0   \n3  https://pantip.com/topic/41031597            496          15   \n4  https://pantip.com/topic/30467953            538           0   \n\n               published_at  \n0 2019-02-26 23:06:26+06:42  \n1 2021-10-15 01:21:22+06:42  \n2 2021-10-14 19:51:54+06:42  \n3 2021-10-10 09:05:21+06:42  \n4 2013-05-10 09:59:20+06:42  ",
      "text/html": "<div>\n<style scoped>\n    .dataframe tbody tr th:only-of-type {\n        vertical-align: middle;\n    }\n\n    .dataframe tbody tr th {\n        vertical-align: top;\n    }\n\n    .dataframe thead th {\n        text-align: right;\n    }\n</style>\n<table border=\"1\" class=\"dataframe\">\n  <thead>\n    <tr style=\"text-align: right;\">\n      <th></th>\n      <th>id</th>\n      <th>title</th>\n      <th>url</th>\n      <th>comment_count</th>\n      <th>vote_count</th>\n      <th>published_at</th>\n    </tr>\n  </thead>\n  <tbody>\n    <tr>\n      <th>0</th>\n      <td>38597354</td>\n      <td>ถึงคนที่มีทุกอย่างอย่างที่ฝันไว้แล้ว..ว่าจริงห...</td>\n      <td>https://pantip.com/topic/38597354</td>\n      <td>126</td>\n      <td>3</td>\n      <td>2019-02-26 23:06:26+06:42</td>\n    </tr>\n    <tr>\n      <th>1</th>\n      <td>41041562</td>\n      <td>เด็กจบใหม่กับความเครียดจากครอบครัวและการหางาน</td>\n      <td>https://pantip.com/topic/41041562</td>\n      <td>211</td>\n      <td>0</td>\n      <td>2021-10-15 01:21:22+06:42</td>\n    </tr>\n    <tr>\n      <th>2</th>\n      <td>41040956</td>\n      <td>พนักงานออฟฟิศ สิ่งไหนที่เจ้านายทำแล้ว พนักงานร...</td>\n      <td>https://pantip.com/topic/41040956</td>\n      <td>275</td>\n      <td>0</td>\n      <td>2021-10-14 19:51:54+06:42</td>\n    </tr>\n    <tr>\n      <th>3</th>\n      <td>41031597</td>\n      <td>มีวิธีรับมืออย่างไรเมื่อเจอกับคนที่ทำงานเก่งมา...</td>\n      <td>https://pantip.com/topic/41031597</td>\n      <td>496</td>\n      <td>15</td>\n      <td>2021-10-10 09:05:21+06:42</td>\n    </tr>\n    <tr>\n      <th>4</th>\n      <td>30467953</td>\n      <td>คนขายประกันที่บอกว่าไปเที่ยวเมืองนอก ได้เงินเด...</td>\n      <td>https://pantip.com/topic/30467953</td>\n      <td>538</td>\n      <td>0</td>\n      <td>2013-05-10 09:59:20+06:42</td>\n    </tr>\n  </tbody>\n</table>\n</div>"
     },
     "execution_count": 46,
     "metadata": {},
     "output_type": "execute_result"
    }
   ],
   "source": [
    "posts_df.head()"
   ],
   "metadata": {
    "collapsed": false,
    "pycharm": {
     "name": "#%%\n"
    }
   }
  },
  {
   "cell_type": "code",
   "execution_count": 47,
   "outputs": [
    {
     "name": "stdout",
     "output_type": "stream",
     "text": [
      "<class 'pandas.core.frame.DataFrame'>\n",
      "RangeIndex: 63867 entries, 0 to 63866\n",
      "Data columns (total 6 columns):\n",
      " #   Column        Non-Null Count  Dtype  \n",
      "---  ------        --------------  -----  \n",
      " 0   Unnamed: 0    63867 non-null  int64  \n",
      " 1   comment_id    63867 non-null  object \n",
      " 2   comment_body  62850 non-null  object \n",
      " 3   collected_at  63867 non-null  object \n",
      " 4   published_at  63867 non-null  object \n",
      " 5   reply_to      63293 non-null  float64\n",
      "dtypes: float64(1), int64(1), object(4)\n",
      "memory usage: 2.9+ MB\n"
     ]
    }
   ],
   "source": [
    "comments_df.info()"
   ],
   "metadata": {
    "collapsed": false,
    "pycharm": {
     "name": "#%%\n"
    }
   }
  },
  {
   "cell_type": "code",
   "execution_count": 48,
   "outputs": [
    {
     "name": "stdout",
     "output_type": "stream",
     "text": [
      "<class 'pandas.core.frame.DataFrame'>\n",
      "RangeIndex: 63867 entries, 0 to 63866\n",
      "Data columns (total 5 columns):\n",
      " #   Column        Non-Null Count  Dtype                                \n",
      "---  ------        --------------  -----                                \n",
      " 0   comment_id    63867 non-null  object                               \n",
      " 1   text          62850 non-null  object                               \n",
      " 2   collected_at  63867 non-null  datetime64[ns]                       \n",
      " 3   published_at  63867 non-null  datetime64[ns, pytz.FixedOffset(402)]\n",
      " 4   reply_to      63293 non-null  float64                              \n",
      "dtypes: datetime64[ns, pytz.FixedOffset(402)](1), datetime64[ns](1), float64(1), object(2)\n",
      "memory usage: 2.4+ MB\n"
     ]
    }
   ],
   "source": [
    "comments_df = comments_df.drop(['Unnamed: 0'], axis=1)\n",
    "comments_df = comments_df.rename(columns={\"comment_body\": \"text\"})\n",
    "comments_df.reply_to = pd.to_numeric(comments_df.reply_to)\n",
    "comments_df.published_at = pd.to_datetime(comments_df.published_at)\n",
    "comments_df.collected_at = pd.to_datetime(comments_df.collected_at)\n",
    "comments_df.info()"
   ],
   "metadata": {
    "collapsed": false,
    "pycharm": {
     "name": "#%%\n"
    }
   }
  },
  {
   "cell_type": "code",
   "execution_count": 49,
   "outputs": [
    {
     "data": {
      "text/plain": "                                      comment_id  \\\n0                                     38597354-0   \n1  38597354-7817b4e7-6c30-414a-8145-c96864d38409   \n2  38597354-314fe8b7-2ded-4b50-990b-21bded1edbf5   \n3  38597354-4f1ae8a3-3eac-46f3-91de-eca33be44e94   \n4  38597354-38e7901d-9402-445d-a235-99d2e772c641   \n\n                                                text  \\\n0  ผมคิดถึงเรื่องนี้มาหลายครั้ง  แต่ก็ไม่เชิงว่าค...   \n1       ซื้อความรักไม่ได้ ถึงเปย์ก็ได้แต่คนไม่จริงใจ   \n2  อยากได้ ไม่ได้ทุกข์ พอได้แล้วสุข สุขแล้วเบื่อ\\...   \n3  ความสุขมันก็คือการได้รับในสิ่งที่ตัวเองต้องการ...   \n4     ความสุขของแต่ละคนมันอยู่ที่นิยามของเจ้าตัวครับ   \n\n                collected_at              published_at    reply_to  \n0 2021-10-19 16:42:41.984684 2019-02-26 23:06:26+06:42         NaN  \n1 2021-10-19 16:42:42.034824 2019-02-26 23:09:18+06:42  38597354.0  \n2 2021-10-19 16:42:42.064554 2019-02-27 00:00:36+06:42  38597354.0  \n3 2021-10-19 16:42:42.096689 2019-02-27 02:31:00+06:42  38597354.0  \n4 2021-10-19 16:42:42.125382 2019-02-27 04:34:28+06:42  38597354.0  ",
      "text/html": "<div>\n<style scoped>\n    .dataframe tbody tr th:only-of-type {\n        vertical-align: middle;\n    }\n\n    .dataframe tbody tr th {\n        vertical-align: top;\n    }\n\n    .dataframe thead th {\n        text-align: right;\n    }\n</style>\n<table border=\"1\" class=\"dataframe\">\n  <thead>\n    <tr style=\"text-align: right;\">\n      <th></th>\n      <th>comment_id</th>\n      <th>text</th>\n      <th>collected_at</th>\n      <th>published_at</th>\n      <th>reply_to</th>\n    </tr>\n  </thead>\n  <tbody>\n    <tr>\n      <th>0</th>\n      <td>38597354-0</td>\n      <td>ผมคิดถึงเรื่องนี้มาหลายครั้ง  แต่ก็ไม่เชิงว่าค...</td>\n      <td>2021-10-19 16:42:41.984684</td>\n      <td>2019-02-26 23:06:26+06:42</td>\n      <td>NaN</td>\n    </tr>\n    <tr>\n      <th>1</th>\n      <td>38597354-7817b4e7-6c30-414a-8145-c96864d38409</td>\n      <td>ซื้อความรักไม่ได้ ถึงเปย์ก็ได้แต่คนไม่จริงใจ</td>\n      <td>2021-10-19 16:42:42.034824</td>\n      <td>2019-02-26 23:09:18+06:42</td>\n      <td>38597354.0</td>\n    </tr>\n    <tr>\n      <th>2</th>\n      <td>38597354-314fe8b7-2ded-4b50-990b-21bded1edbf5</td>\n      <td>อยากได้ ไม่ได้ทุกข์ พอได้แล้วสุข สุขแล้วเบื่อ\\...</td>\n      <td>2021-10-19 16:42:42.064554</td>\n      <td>2019-02-27 00:00:36+06:42</td>\n      <td>38597354.0</td>\n    </tr>\n    <tr>\n      <th>3</th>\n      <td>38597354-4f1ae8a3-3eac-46f3-91de-eca33be44e94</td>\n      <td>ความสุขมันก็คือการได้รับในสิ่งที่ตัวเองต้องการ...</td>\n      <td>2021-10-19 16:42:42.096689</td>\n      <td>2019-02-27 02:31:00+06:42</td>\n      <td>38597354.0</td>\n    </tr>\n    <tr>\n      <th>4</th>\n      <td>38597354-38e7901d-9402-445d-a235-99d2e772c641</td>\n      <td>ความสุขของแต่ละคนมันอยู่ที่นิยามของเจ้าตัวครับ</td>\n      <td>2021-10-19 16:42:42.125382</td>\n      <td>2019-02-27 04:34:28+06:42</td>\n      <td>38597354.0</td>\n    </tr>\n  </tbody>\n</table>\n</div>"
     },
     "execution_count": 49,
     "metadata": {},
     "output_type": "execute_result"
    }
   ],
   "source": [
    "comments_df.head()"
   ],
   "metadata": {
    "collapsed": false,
    "pycharm": {
     "name": "#%%\n"
    }
   }
  },
  {
   "cell_type": "code",
   "execution_count": 50,
   "outputs": [],
   "source": [
    "posts_df.to_csv('posts.csv', index=False)\n",
    "comments_df.to_csv('comments.csv', index=False)"
   ],
   "metadata": {
    "collapsed": false,
    "pycharm": {
     "name": "#%%\n"
    }
   }
  }
 ],
 "metadata": {
  "kernelspec": {
   "display_name": "Python 3",
   "language": "python",
   "name": "python3"
  },
  "language_info": {
   "codemirror_mode": {
    "name": "ipython",
    "version": 2
   },
   "file_extension": ".py",
   "mimetype": "text/x-python",
   "name": "python",
   "nbconvert_exporter": "python",
   "pygments_lexer": "ipython2",
   "version": "2.7.6"
  }
 },
 "nbformat": 4,
 "nbformat_minor": 0
}