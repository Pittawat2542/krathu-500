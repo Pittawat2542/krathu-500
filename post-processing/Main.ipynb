{
 "cells": [
  {
   "cell_type": "markdown",
   "source": [
    "# Post Processing"
   ],
   "metadata": {
    "collapsed": false
   }
  },
  {
   "cell_type": "code",
   "execution_count": 1,
   "metadata": {
    "collapsed": true
   },
   "outputs": [],
   "source": [
    "import pandas as pd"
   ]
  },
  {
   "cell_type": "code",
   "execution_count": 2,
   "outputs": [],
   "source": [
    "posts_df = pd.read_csv('../posts.csv')\n",
    "comments_df = pd.read_csv('../comments.csv')"
   ],
   "metadata": {
    "collapsed": false,
    "pycharm": {
     "name": "#%%\n"
    }
   }
  },
  {
   "cell_type": "code",
   "execution_count": 3,
   "outputs": [
    {
     "name": "stdout",
     "output_type": "stream",
     "text": [
      "<class 'pandas.core.frame.DataFrame'>\n",
      "RangeIndex: 574 entries, 0 to 573\n",
      "Data columns (total 8 columns):\n",
      " #   Column          Non-Null Count  Dtype \n",
      "---  ------          --------------  ----- \n",
      " 0   Unnamed: 0      574 non-null    int64 \n",
      " 1   Unnamed: 0.1    574 non-null    int64 \n",
      " 2   post_id         574 non-null    int64 \n",
      " 3   title           574 non-null    object\n",
      " 4   url             574 non-null    object\n",
      " 5   comment_count   574 non-null    int64 \n",
      " 6   vote_count      574 non-null    int64 \n",
      " 7   published_date  574 non-null    object\n",
      "dtypes: int64(5), object(3)\n",
      "memory usage: 36.0+ KB\n"
     ]
    }
   ],
   "source": [
    "posts_df.info()"
   ],
   "metadata": {
    "collapsed": false,
    "pycharm": {
     "name": "#%%\n"
    }
   }
  },
  {
   "cell_type": "code",
   "execution_count": 4,
   "outputs": [
    {
     "name": "stdout",
     "output_type": "stream",
     "text": [
      "<class 'pandas.core.frame.DataFrame'>\n",
      "RangeIndex: 574 entries, 0 to 573\n",
      "Data columns (total 6 columns):\n",
      " #   Column         Non-Null Count  Dtype                                \n",
      "---  ------         --------------  -----                                \n",
      " 0   id             574 non-null    int64                                \n",
      " 1   title          574 non-null    object                               \n",
      " 2   url            574 non-null    object                               \n",
      " 3   comment_count  574 non-null    int64                                \n",
      " 4   vote_count     574 non-null    int64                                \n",
      " 5   published_at   574 non-null    datetime64[ns, pytz.FixedOffset(402)]\n",
      "dtypes: datetime64[ns, pytz.FixedOffset(402)](1), int64(3), object(2)\n",
      "memory usage: 27.0+ KB\n"
     ]
    }
   ],
   "source": [
    "posts_df = posts_df.drop(['Unnamed: 0', 'Unnamed: 0.1'], axis=1)\n",
    "posts_df = posts_df.rename(columns={\"post_id\": \"id\", \"published_date\": \"published_at\"})\n",
    "posts_df.published_at = pd.to_datetime(posts_df.published_at)\n",
    "posts_df.info()"
   ],
   "metadata": {
    "collapsed": false,
    "pycharm": {
     "name": "#%%\n"
    }
   }
  },
  {
   "cell_type": "code",
   "execution_count": 5,
   "outputs": [
    {
     "data": {
      "text/plain": "                 id  comment_count   vote_count\ncount  5.740000e+02     574.000000   574.000000\nmean   3.824681e+07     112.775261    39.317073\nstd    3.092140e+06     123.000929   116.985734\nmin    3.010639e+07      51.000000     0.000000\n25%    3.608681e+07      70.000000     0.000000\n50%    3.993417e+07      91.000000     2.000000\n75%    4.049911e+07     124.000000    17.000000\nmax    4.104156e+07    2000.000000  1400.000000",
      "text/html": "<div>\n<style scoped>\n    .dataframe tbody tr th:only-of-type {\n        vertical-align: middle;\n    }\n\n    .dataframe tbody tr th {\n        vertical-align: top;\n    }\n\n    .dataframe thead th {\n        text-align: right;\n    }\n</style>\n<table border=\"1\" class=\"dataframe\">\n  <thead>\n    <tr style=\"text-align: right;\">\n      <th></th>\n      <th>id</th>\n      <th>comment_count</th>\n      <th>vote_count</th>\n    </tr>\n  </thead>\n  <tbody>\n    <tr>\n      <th>count</th>\n      <td>5.740000e+02</td>\n      <td>574.000000</td>\n      <td>574.000000</td>\n    </tr>\n    <tr>\n      <th>mean</th>\n      <td>3.824681e+07</td>\n      <td>112.775261</td>\n      <td>39.317073</td>\n    </tr>\n    <tr>\n      <th>std</th>\n      <td>3.092140e+06</td>\n      <td>123.000929</td>\n      <td>116.985734</td>\n    </tr>\n    <tr>\n      <th>min</th>\n      <td>3.010639e+07</td>\n      <td>51.000000</td>\n      <td>0.000000</td>\n    </tr>\n    <tr>\n      <th>25%</th>\n      <td>3.608681e+07</td>\n      <td>70.000000</td>\n      <td>0.000000</td>\n    </tr>\n    <tr>\n      <th>50%</th>\n      <td>3.993417e+07</td>\n      <td>91.000000</td>\n      <td>2.000000</td>\n    </tr>\n    <tr>\n      <th>75%</th>\n      <td>4.049911e+07</td>\n      <td>124.000000</td>\n      <td>17.000000</td>\n    </tr>\n    <tr>\n      <th>max</th>\n      <td>4.104156e+07</td>\n      <td>2000.000000</td>\n      <td>1400.000000</td>\n    </tr>\n  </tbody>\n</table>\n</div>"
     },
     "execution_count": 5,
     "metadata": {},
     "output_type": "execute_result"
    }
   ],
   "source": [
    "posts_df.describe()"
   ],
   "metadata": {
    "collapsed": false,
    "pycharm": {
     "name": "#%%\n"
    }
   }
  },
  {
   "cell_type": "code",
   "execution_count": 6,
   "outputs": [
    {
     "data": {
      "text/plain": "         id                                              title  \\\n0  38597354  ถึงคนที่มีทุกอย่างอย่างที่ฝันไว้แล้ว..ว่าจริงห...   \n1  41041562      เด็กจบใหม่กับความเครียดจากครอบครัวและการหางาน   \n2  41040956  พนักงานออฟฟิศ สิ่งไหนที่เจ้านายทำแล้ว พนักงานร...   \n3  41031597  มีวิธีรับมืออย่างไรเมื่อเจอกับคนที่ทำงานเก่งมา...   \n4  30467953  คนขายประกันที่บอกว่าไปเที่ยวเมืองนอก ได้เงินเด...   \n\n                                 url  comment_count  vote_count  \\\n0  https://pantip.com/topic/38597354            126           3   \n1  https://pantip.com/topic/41041562             82           0   \n2  https://pantip.com/topic/41040956             64           0   \n3  https://pantip.com/topic/41031597            218          15   \n4  https://pantip.com/topic/30467953             62           0   \n\n               published_at  \n0 2019-02-26 23:06:00+06:42  \n1 2021-10-15 01:21:00+06:42  \n2 2021-10-14 19:51:00+06:42  \n3 2021-10-10 09:05:00+06:42  \n4 2013-05-10 09:59:00+06:42  ",
      "text/html": "<div>\n<style scoped>\n    .dataframe tbody tr th:only-of-type {\n        vertical-align: middle;\n    }\n\n    .dataframe tbody tr th {\n        vertical-align: top;\n    }\n\n    .dataframe thead th {\n        text-align: right;\n    }\n</style>\n<table border=\"1\" class=\"dataframe\">\n  <thead>\n    <tr style=\"text-align: right;\">\n      <th></th>\n      <th>id</th>\n      <th>title</th>\n      <th>url</th>\n      <th>comment_count</th>\n      <th>vote_count</th>\n      <th>published_at</th>\n    </tr>\n  </thead>\n  <tbody>\n    <tr>\n      <th>0</th>\n      <td>38597354</td>\n      <td>ถึงคนที่มีทุกอย่างอย่างที่ฝันไว้แล้ว..ว่าจริงห...</td>\n      <td>https://pantip.com/topic/38597354</td>\n      <td>126</td>\n      <td>3</td>\n      <td>2019-02-26 23:06:00+06:42</td>\n    </tr>\n    <tr>\n      <th>1</th>\n      <td>41041562</td>\n      <td>เด็กจบใหม่กับความเครียดจากครอบครัวและการหางาน</td>\n      <td>https://pantip.com/topic/41041562</td>\n      <td>82</td>\n      <td>0</td>\n      <td>2021-10-15 01:21:00+06:42</td>\n    </tr>\n    <tr>\n      <th>2</th>\n      <td>41040956</td>\n      <td>พนักงานออฟฟิศ สิ่งไหนที่เจ้านายทำแล้ว พนักงานร...</td>\n      <td>https://pantip.com/topic/41040956</td>\n      <td>64</td>\n      <td>0</td>\n      <td>2021-10-14 19:51:00+06:42</td>\n    </tr>\n    <tr>\n      <th>3</th>\n      <td>41031597</td>\n      <td>มีวิธีรับมืออย่างไรเมื่อเจอกับคนที่ทำงานเก่งมา...</td>\n      <td>https://pantip.com/topic/41031597</td>\n      <td>218</td>\n      <td>15</td>\n      <td>2021-10-10 09:05:00+06:42</td>\n    </tr>\n    <tr>\n      <th>4</th>\n      <td>30467953</td>\n      <td>คนขายประกันที่บอกว่าไปเที่ยวเมืองนอก ได้เงินเด...</td>\n      <td>https://pantip.com/topic/30467953</td>\n      <td>62</td>\n      <td>0</td>\n      <td>2013-05-10 09:59:00+06:42</td>\n    </tr>\n  </tbody>\n</table>\n</div>"
     },
     "execution_count": 6,
     "metadata": {},
     "output_type": "execute_result"
    }
   ],
   "source": [
    "posts_df.head()"
   ],
   "metadata": {
    "collapsed": false,
    "pycharm": {
     "name": "#%%\n"
    }
   }
  },
  {
   "cell_type": "code",
   "execution_count": 7,
   "outputs": [
    {
     "name": "stdout",
     "output_type": "stream",
     "text": [
      "<class 'pandas.core.frame.DataFrame'>\n",
      "RangeIndex: 63865 entries, 0 to 63864\n",
      "Data columns (total 6 columns):\n",
      " #   Column        Non-Null Count  Dtype  \n",
      "---  ------        --------------  -----  \n",
      " 0   Unnamed: 0    63865 non-null  int64  \n",
      " 1   comment_id    63865 non-null  object \n",
      " 2   comment_body  62858 non-null  object \n",
      " 3   collected_at  63865 non-null  object \n",
      " 4   published_at  63865 non-null  object \n",
      " 5   reply_to      63291 non-null  float64\n",
      "dtypes: float64(1), int64(1), object(4)\n",
      "memory usage: 2.9+ MB\n"
     ]
    }
   ],
   "source": [
    "comments_df.info()"
   ],
   "metadata": {
    "collapsed": false,
    "pycharm": {
     "name": "#%%\n"
    }
   }
  },
  {
   "cell_type": "code",
   "execution_count": 8,
   "outputs": [
    {
     "name": "stdout",
     "output_type": "stream",
     "text": [
      "<class 'pandas.core.frame.DataFrame'>\n",
      "RangeIndex: 63865 entries, 0 to 63864\n",
      "Data columns (total 5 columns):\n",
      " #   Column        Non-Null Count  Dtype                                \n",
      "---  ------        --------------  -----                                \n",
      " 0   comment_id    63865 non-null  object                               \n",
      " 1   text          62858 non-null  object                               \n",
      " 2   collected_at  63865 non-null  datetime64[ns]                       \n",
      " 3   published_at  63865 non-null  datetime64[ns, pytz.FixedOffset(402)]\n",
      " 4   reply_to      63291 non-null  float64                              \n",
      "dtypes: datetime64[ns, pytz.FixedOffset(402)](1), datetime64[ns](1), float64(1), object(2)\n",
      "memory usage: 2.4+ MB\n"
     ]
    }
   ],
   "source": [
    "comments_df = comments_df.drop(['Unnamed: 0'], axis=1)\n",
    "comments_df = comments_df.rename(columns={\"comment_body\": \"text\"})\n",
    "comments_df.reply_to = pd.to_numeric(comments_df.reply_to)\n",
    "comments_df.published_at = pd.to_datetime(comments_df.published_at)\n",
    "comments_df.collected_at = pd.to_datetime(comments_df.collected_at)\n",
    "comments_df.info()"
   ],
   "metadata": {
    "collapsed": false,
    "pycharm": {
     "name": "#%%\n"
    }
   }
  },
  {
   "cell_type": "code",
   "execution_count": 9,
   "outputs": [
    {
     "data": {
      "text/plain": "                                      comment_id  \\\n0                                     38597354-0   \n1  38597354-e33bedab-5d47-48c3-aa99-23eb5a34ef0a   \n2  38597354-7d943e09-f571-4f55-ac7a-fedf0f5ef703   \n3  38597354-f62623b2-4511-46bd-b156-29691667ce38   \n4  38597354-c440f901-80c5-4941-865f-0795003cfa8d   \n\n                                                text  \\\n0                                                ...   \n1                                                      \n2                                                ...   \n3                                                ...   \n4                                                      \n\n                collected_at              published_at    reply_to  \n0 2021-10-19 13:48:11.703888 2019-02-26 23:06:26+06:42         NaN  \n1 2021-10-19 13:48:11.760978 2019-02-26 23:09:18+06:42  38597354.0  \n2 2021-10-19 13:48:11.804020 2019-02-27 00:00:36+06:42  38597354.0  \n3 2021-10-19 13:48:11.849455 2019-02-27 02:31:00+06:42  38597354.0  \n4 2021-10-19 13:48:11.887546 2019-02-27 04:34:28+06:42  38597354.0  ",
      "text/html": "<div>\n<style scoped>\n    .dataframe tbody tr th:only-of-type {\n        vertical-align: middle;\n    }\n\n    .dataframe tbody tr th {\n        vertical-align: top;\n    }\n\n    .dataframe thead th {\n        text-align: right;\n    }\n</style>\n<table border=\"1\" class=\"dataframe\">\n  <thead>\n    <tr style=\"text-align: right;\">\n      <th></th>\n      <th>comment_id</th>\n      <th>text</th>\n      <th>collected_at</th>\n      <th>published_at</th>\n      <th>reply_to</th>\n    </tr>\n  </thead>\n  <tbody>\n    <tr>\n      <th>0</th>\n      <td>38597354-0</td>\n      <td>...</td>\n      <td>2021-10-19 13:48:11.703888</td>\n      <td>2019-02-26 23:06:26+06:42</td>\n      <td>NaN</td>\n    </tr>\n    <tr>\n      <th>1</th>\n      <td>38597354-e33bedab-5d47-48c3-aa99-23eb5a34ef0a</td>\n      <td></td>\n      <td>2021-10-19 13:48:11.760978</td>\n      <td>2019-02-26 23:09:18+06:42</td>\n      <td>38597354.0</td>\n    </tr>\n    <tr>\n      <th>2</th>\n      <td>38597354-7d943e09-f571-4f55-ac7a-fedf0f5ef703</td>\n      <td>...</td>\n      <td>2021-10-19 13:48:11.804020</td>\n      <td>2019-02-27 00:00:36+06:42</td>\n      <td>38597354.0</td>\n    </tr>\n    <tr>\n      <th>3</th>\n      <td>38597354-f62623b2-4511-46bd-b156-29691667ce38</td>\n      <td>...</td>\n      <td>2021-10-19 13:48:11.849455</td>\n      <td>2019-02-27 02:31:00+06:42</td>\n      <td>38597354.0</td>\n    </tr>\n    <tr>\n      <th>4</th>\n      <td>38597354-c440f901-80c5-4941-865f-0795003cfa8d</td>\n      <td></td>\n      <td>2021-10-19 13:48:11.887546</td>\n      <td>2019-02-27 04:34:28+06:42</td>\n      <td>38597354.0</td>\n    </tr>\n  </tbody>\n</table>\n</div>"
     },
     "execution_count": 9,
     "metadata": {},
     "output_type": "execute_result"
    }
   ],
   "source": [
    "comments_df.head()"
   ],
   "metadata": {
    "collapsed": false,
    "pycharm": {
     "name": "#%%\n"
    }
   }
  },
  {
   "cell_type": "code",
   "execution_count": 10,
   "outputs": [],
   "source": [
    "posts_df.to_csv('posts.csv')\n",
    "comments_df.to_csv('comments.csv')"
   ],
   "metadata": {
    "collapsed": false,
    "pycharm": {
     "name": "#%%\n"
    }
   }
  }
 ],
 "metadata": {
  "kernelspec": {
   "display_name": "Python 3",
   "language": "python",
   "name": "python3"
  },
  "language_info": {
   "codemirror_mode": {
    "name": "ipython",
    "version": 2
   },
   "file_extension": ".py",
   "mimetype": "text/x-python",
   "name": "python",
   "nbconvert_exporter": "python",
   "pygments_lexer": "ipython2",
   "version": "2.7.6"
  }
 },
 "nbformat": 4,
 "nbformat_minor": 0
}