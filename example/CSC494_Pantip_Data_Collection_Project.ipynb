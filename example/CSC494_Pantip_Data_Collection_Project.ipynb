{
  "nbformat": 4,
  "nbformat_minor": 0,
  "metadata": {
    "colab": {
      "name": "CSC494_Pantip_Data_Collection_Project.ipynb",
      "provenance": []
    },
    "kernelspec": {
      "name": "python3",
      "display_name": "Python 3"
    },
    "language_info": {
      "name": "python"
    },
    "accelerator": "GPU"
  },
  "cells": [
    {
      "cell_type": "markdown",
      "metadata": {
        "id": "VwVSZpcCuTvf"
      },
      "source": [
        "# Pantip Post Body Summarization"
      ]
    },
    {
      "cell_type": "markdown",
      "metadata": {
        "id": "Qa28KYCtuZpC"
      },
      "source": [
        "Refernce: https://huggingface.co/transformers/task_summary.html#summarization"
      ]
    },
    {
      "cell_type": "markdown",
      "metadata": {
        "id": "mnt8Ju50ub0-"
      },
      "source": [
        "## Setup"
      ]
    },
    {
      "cell_type": "code",
      "metadata": {
        "colab": {
          "base_uri": "https://localhost:8080/",
          "height": 514
        },
        "id": "KMMP2xoEfr9s",
        "outputId": "4ec8f6ef-c92b-4208-8971-c35cb6234e12"
      },
      "source": [
        "!pip install pythainlp"
      ],
      "execution_count": 8,
      "outputs": [
        {
          "output_type": "stream",
          "name": "stdout",
          "text": [
            "Collecting pythainlp\n",
            "  Downloading pythainlp-2.3.2-py3-none-any.whl (11.0 MB)\n",
            "\u001b[K     |████████████████████████████████| 11.0 MB 3.5 MB/s \n",
            "\u001b[?25hCollecting python-crfsuite>=0.9.6\n",
            "  Downloading python_crfsuite-0.9.7-cp37-cp37m-manylinux1_x86_64.whl (743 kB)\n",
            "\u001b[K     |████████████████████████████████| 743 kB 31.6 MB/s \n",
            "\u001b[?25hRequirement already satisfied: requests>=2.22.0 in /usr/local/lib/python3.7/dist-packages (from pythainlp) (2.23.0)\n",
            "Collecting tinydb>=3.0\n",
            "  Downloading tinydb-4.5.2-py3-none-any.whl (23 kB)\n",
            "Requirement already satisfied: chardet<4,>=3.0.2 in /usr/local/lib/python3.7/dist-packages (from requests>=2.22.0->pythainlp) (3.0.4)\n",
            "Requirement already satisfied: certifi>=2017.4.17 in /usr/local/lib/python3.7/dist-packages (from requests>=2.22.0->pythainlp) (2021.5.30)\n",
            "Requirement already satisfied: idna<3,>=2.5 in /usr/local/lib/python3.7/dist-packages (from requests>=2.22.0->pythainlp) (2.10)\n",
            "Requirement already satisfied: urllib3!=1.25.0,!=1.25.1,<1.26,>=1.21.1 in /usr/local/lib/python3.7/dist-packages (from requests>=2.22.0->pythainlp) (1.24.3)\n",
            "Collecting typing-extensions<4.0.0,>=3.10.0\n",
            "  Downloading typing_extensions-3.10.0.2-py3-none-any.whl (26 kB)\n",
            "Installing collected packages: typing-extensions, tinydb, python-crfsuite, pythainlp\n",
            "  Attempting uninstall: typing-extensions\n",
            "    Found existing installation: typing-extensions 3.7.4.3\n",
            "    Uninstalling typing-extensions-3.7.4.3:\n",
            "      Successfully uninstalled typing-extensions-3.7.4.3\n",
            "\u001b[31mERROR: pip's dependency resolver does not currently take into account all the packages that are installed. This behaviour is the source of the following dependency conflicts.\n",
            "tensorflow 2.6.0 requires typing-extensions~=3.7.4, but you have typing-extensions 3.10.0.2 which is incompatible.\u001b[0m\n",
            "Successfully installed pythainlp-2.3.2 python-crfsuite-0.9.7 tinydb-4.5.2 typing-extensions-3.10.0.2\n"
          ]
        },
        {
          "output_type": "display_data",
          "data": {
            "application/vnd.colab-display-data+json": {
              "pip_warning": {
                "packages": [
                  "typing_extensions"
                ]
              }
            }
          },
          "metadata": {}
        }
      ]
    },
    {
      "cell_type": "code",
      "metadata": {
        "id": "rglJgZI6Zhz4"
      },
      "source": [
        "from pythainlp.summarize import summarize"
      ],
      "execution_count": 1,
      "outputs": []
    },
    {
      "cell_type": "code",
      "metadata": {
        "id": "Qvvkc4swfmoV"
      },
      "source": [
        "import pandas as pd"
      ],
      "execution_count": 3,
      "outputs": []
    },
    {
      "cell_type": "markdown",
      "metadata": {
        "id": "vlnE-cnNuerZ"
      },
      "source": [
        "## Model"
      ]
    },
    {
      "cell_type": "code",
      "metadata": {
        "colab": {
          "base_uri": "https://localhost:8080/"
        },
        "id": "627eM6czv7uf",
        "outputId": "b5888d1e-df7e-466d-c56a-26b5a4bdde10"
      },
      "source": [
        "summarize('ทำเนียบท่าช้าง หรือ วังถนนพระอาทิตย์ ตั้งอยู่บนถนนพระอาทิตย์ เขตพระนคร กรุงเทพมหานคร', n=3)"
      ],
      "execution_count": 9,
      "outputs": [
        {
          "output_type": "execute_result",
          "data": {
            "text/plain": [
              "['ทำเนียบท่าช้าง', 'เขตพระนคร', 'วังถนนพระอาทิตย์']"
            ]
          },
          "metadata": {},
          "execution_count": 9
        }
      ]
    },
    {
      "cell_type": "markdown",
      "metadata": {
        "id": "nImkiV6vugVe"
      },
      "source": [
        "## Data Processing"
      ]
    },
    {
      "cell_type": "code",
      "metadata": {
        "id": "pjX9bt6oZiGc"
      },
      "source": [
        "posts = pd.read_csv('posts.csv')\n",
        "comments = pd.read_csv('comments.csv')"
      ],
      "execution_count": 14,
      "outputs": []
    },
    {
      "cell_type": "code",
      "metadata": {
        "id": "PxZWF842bwl2"
      },
      "source": [
        "comments.reply_to = pd.to_numeric(comments.reply_to)"
      ],
      "execution_count": 15,
      "outputs": []
    },
    {
      "cell_type": "code",
      "metadata": {
        "colab": {
          "base_uri": "https://localhost:8080/",
          "height": 419
        },
        "id": "722clqzdaCy7",
        "outputId": "fca8b778-26db-446f-a273-c50e8602d5f0"
      },
      "source": [
        "post_content = comments[pd.isna(comments.reply_to)]\n",
        "post_content"
      ],
      "execution_count": 16,
      "outputs": [
        {
          "output_type": "execute_result",
          "data": {
            "text/html": [
              "<div>\n",
              "<style scoped>\n",
              "    .dataframe tbody tr th:only-of-type {\n",
              "        vertical-align: middle;\n",
              "    }\n",
              "\n",
              "    .dataframe tbody tr th {\n",
              "        vertical-align: top;\n",
              "    }\n",
              "\n",
              "    .dataframe thead th {\n",
              "        text-align: right;\n",
              "    }\n",
              "</style>\n",
              "<table border=\"1\" class=\"dataframe\">\n",
              "  <thead>\n",
              "    <tr style=\"text-align: right;\">\n",
              "      <th></th>\n",
              "      <th>comment_id</th>\n",
              "      <th>text</th>\n",
              "      <th>collected_at</th>\n",
              "      <th>published_at</th>\n",
              "      <th>reply_to</th>\n",
              "    </tr>\n",
              "  </thead>\n",
              "  <tbody>\n",
              "    <tr>\n",
              "      <th>0</th>\n",
              "      <td>38597354-0</td>\n",
              "      <td>ผมคิดถึงเรื่องนี้มาหลายครั้ง  แต่ก็ไม่เชิงว่าค...</td>\n",
              "      <td>2021-10-19 16:42:41.984684</td>\n",
              "      <td>2019-02-26 23:06:26+06:42</td>\n",
              "      <td>NaN</td>\n",
              "    </tr>\n",
              "    <tr>\n",
              "      <th>127</th>\n",
              "      <td>41041562-0</td>\n",
              "      <td>ขอใช้พื้นที่ตรงนี้ระบายนะคะ\\n\\n  คือเราเป็นลูก...</td>\n",
              "      <td>2021-10-19 16:42:52.208537</td>\n",
              "      <td>2021-10-15 01:21:22+06:42</td>\n",
              "      <td>NaN</td>\n",
              "    </tr>\n",
              "    <tr>\n",
              "      <th>212</th>\n",
              "      <td>41040956-0</td>\n",
              "      <td>1 โมโหร้าย ขาดสติ ตำหนิเสียงดัง ( โวยจากหลังบร...</td>\n",
              "      <td>2021-10-19 16:43:00.377630</td>\n",
              "      <td>2021-10-14 19:51:54+06:42</td>\n",
              "      <td>NaN</td>\n",
              "    </tr>\n",
              "    <tr>\n",
              "      <th>276</th>\n",
              "      <td>41031597-0</td>\n",
              "      <td>เป็นเรื่องใกล้ตัวของคนที่เข้ามาใหม่ในสำนักงานไ...</td>\n",
              "      <td>2021-10-19 16:43:19.647321</td>\n",
              "      <td>2021-10-10 09:05:21+06:42</td>\n",
              "      <td>NaN</td>\n",
              "    </tr>\n",
              "    <tr>\n",
              "      <th>497</th>\n",
              "      <td>30467953-0</td>\n",
              "      <td>พอดีว่าจะทำประกันให้พ่อกับแม่ แต่พี่คนขายประกั...</td>\n",
              "      <td>2021-10-19 16:43:34.550111</td>\n",
              "      <td>2013-05-10 09:59:20+06:42</td>\n",
              "      <td>NaN</td>\n",
              "    </tr>\n",
              "    <tr>\n",
              "      <th>...</th>\n",
              "      <td>...</td>\n",
              "      <td>...</td>\n",
              "      <td>...</td>\n",
              "      <td>...</td>\n",
              "      <td>...</td>\n",
              "    </tr>\n",
              "    <tr>\n",
              "      <th>63464</th>\n",
              "      <td>30433297-0</td>\n",
              "      <td>อายุ 23 พนักงานบัญชีธรรมดาๆคนนึง\\nคืออยากมีเงิ...</td>\n",
              "      <td>2021-10-19 18:43:57.554297</td>\n",
              "      <td>2013-05-01 18:58:17+06:42</td>\n",
              "      <td>NaN</td>\n",
              "    </tr>\n",
              "    <tr>\n",
              "      <th>63563</th>\n",
              "      <td>39698219-0</td>\n",
              "      <td>สวัสดีค่า จขกท.เพิ่งเรียนจบทำงานมาได้ประมาณ 7 ...</td>\n",
              "      <td>2021-10-19 18:44:06.073802</td>\n",
              "      <td>2020-03-08 22:31:11+06:42</td>\n",
              "      <td>NaN</td>\n",
              "    </tr>\n",
              "    <tr>\n",
              "      <th>63632</th>\n",
              "      <td>39708177-0</td>\n",
              "      <td>อยากจะสอบถามเพื่อนที่ทำงานประจำหรือธุระกิจส่วน...</td>\n",
              "      <td>2021-10-19 18:44:13.591322</td>\n",
              "      <td>2020-03-12 12:42:03+06:42</td>\n",
              "      <td>NaN</td>\n",
              "    </tr>\n",
              "    <tr>\n",
              "      <th>63700</th>\n",
              "      <td>32475418-0</td>\n",
              "      <td>รู้ป่าวครับ ผมรู้จักคำว่ามนุษย์เงินเดือนครั้งแ...</td>\n",
              "      <td>2021-10-19 18:44:20.997600</td>\n",
              "      <td>2014-08-20 08:43:05+06:42</td>\n",
              "      <td>NaN</td>\n",
              "    </tr>\n",
              "    <tr>\n",
              "      <th>63785</th>\n",
              "      <td>39682791-0</td>\n",
              "      <td>เปิดกระทู้มา แค่อยากพิมพ์ อยากบ่น อยากได้กำลัง...</td>\n",
              "      <td>2021-10-19 18:44:29.795516</td>\n",
              "      <td>2020-03-02 22:18:00+06:42</td>\n",
              "      <td>NaN</td>\n",
              "    </tr>\n",
              "  </tbody>\n",
              "</table>\n",
              "<p>574 rows × 5 columns</p>\n",
              "</div>"
            ],
            "text/plain": [
              "       comment_id  ... reply_to\n",
              "0      38597354-0  ...      NaN\n",
              "127    41041562-0  ...      NaN\n",
              "212    41040956-0  ...      NaN\n",
              "276    41031597-0  ...      NaN\n",
              "497    30467953-0  ...      NaN\n",
              "...           ...  ...      ...\n",
              "63464  30433297-0  ...      NaN\n",
              "63563  39698219-0  ...      NaN\n",
              "63632  39708177-0  ...      NaN\n",
              "63700  32475418-0  ...      NaN\n",
              "63785  39682791-0  ...      NaN\n",
              "\n",
              "[574 rows x 5 columns]"
            ]
          },
          "metadata": {},
          "execution_count": 16
        }
      ]
    },
    {
      "cell_type": "markdown",
      "metadata": {
        "id": "EhQkbVPHui95"
      },
      "source": [
        "## Inferring"
      ]
    },
    {
      "cell_type": "code",
      "metadata": {
        "id": "S56u4b54cUmo"
      },
      "source": [
        "summarized_list = []"
      ],
      "execution_count": 17,
      "outputs": []
    },
    {
      "cell_type": "code",
      "metadata": {
        "id": "BG7kbQjdlqyU"
      },
      "source": [
        "for idx, post in post_content.iterrows():\n",
        "  post_id = int(post.comment_id.split('-')[0])\n",
        "  title = posts[posts.id == post_id].title.values[0]\n",
        "  text = str(post.text).strip()\n",
        "  summary = \" \".join(summarize(text, n=max(3, int(len(text) * 0.1))))\n",
        "\n",
        "  summarized_list.append({\n",
        "      'post_title': title,\n",
        "      'summary_post_content': summary\n",
        "  })"
      ],
      "execution_count": 22,
      "outputs": []
    },
    {
      "cell_type": "code",
      "metadata": {
        "id": "zFWJSB-crDK8"
      },
      "source": [
        "result = pd.DataFrame(summarized_list)\n",
        "result.to_csv('result.csv')"
      ],
      "execution_count": 23,
      "outputs": []
    }
  ]
}